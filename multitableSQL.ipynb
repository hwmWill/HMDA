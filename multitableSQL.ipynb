{
 "cells": [
  {
   "cell_type": "code",
   "execution_count": 1,
   "metadata": {},
   "outputs": [],
   "source": [
    "import pandas as pd\n",
    "import sqlite3 as sql"
   ]
  },
  {
   "cell_type": "code",
   "execution_count": 2,
   "metadata": {},
   "outputs": [],
   "source": [
    "### LAR\n",
    "\n",
    "def cleanLAR(year):\n",
    "    fp = f\"C:\\\\Users\\\\WilliamRobinson\\\\OneDrive - HW Publishing LLC\\\\Documents\\\\Data\\\\HMDA\\\\LAR\\\\{year}.txt\"\n",
    "\n",
    "    # Create dictionary of columns where 'Exempt' is a null value\n",
    "    exempts = ['combined_loan_to_value_ratio', 'interest_rate', 'rate_spread', \n",
    "    'total_loan_costs', 'total_points_and_fees', 'origination_charges',\n",
    "    'discount_points', 'lender_credits', 'loan_term',\n",
    "    'prepayment_penalty_term', 'intro_rate_period', 'property_value',\n",
    "    'total_units', 'multifamily_affordable_units', 'debt_to_income_ratio']\n",
    "    exemptNulls = dict(zip(exempts, ['Exempt']*len(exempts)))\n",
    "\n",
    "    return pd.read_csv(fp, delimiter='|',  \n",
    "                 na_values = exemptNulls,\n",
    "                 dtype={\n",
    "                    'state_code':'str', \n",
    "                    'applicant_age':'str', \n",
    "                    'co_applicant_age':'str'\n",
    "                }\n",
    "        )\n"
   ]
  },
  {
   "cell_type": "code",
   "execution_count": 3,
   "metadata": {},
   "outputs": [
    {
     "name": "stderr",
     "output_type": "stream",
     "text": [
      "C:\\Users\\WilliamRobinson\\AppData\\Local\\Temp\\ipykernel_6720\\506808745.py:14: DtypeWarning: Columns (43,46,79,80) have mixed types. Specify dtype option on import or set low_memory=False.\n",
      "  return pd.read_csv(fp, delimiter='|',\n"
     ]
    },
    {
     "name": "stdout",
     "output_type": "stream",
     "text": [
      "2018\n"
     ]
    },
    {
     "name": "stderr",
     "output_type": "stream",
     "text": [
      "C:\\Users\\WilliamRobinson\\AppData\\Local\\Temp\\ipykernel_6720\\506808745.py:14: DtypeWarning: Columns (4,5,43,46,79,80) have mixed types. Specify dtype option on import or set low_memory=False.\n",
      "  return pd.read_csv(fp, delimiter='|',\n"
     ]
    },
    {
     "name": "stdout",
     "output_type": "stream",
     "text": [
      "2019\n"
     ]
    },
    {
     "name": "stderr",
     "output_type": "stream",
     "text": [
      "C:\\Users\\WilliamRobinson\\AppData\\Local\\Temp\\ipykernel_6720\\506808745.py:14: DtypeWarning: Columns (5,43,46,79,80) have mixed types. Specify dtype option on import or set low_memory=False.\n",
      "  return pd.read_csv(fp, delimiter='|',\n"
     ]
    },
    {
     "name": "stdout",
     "output_type": "stream",
     "text": [
      "2020\n"
     ]
    },
    {
     "name": "stderr",
     "output_type": "stream",
     "text": [
      "C:\\Users\\WilliamRobinson\\AppData\\Local\\Temp\\ipykernel_6720\\506808745.py:14: DtypeWarning: Columns (5,43,46,79,80) have mixed types. Specify dtype option on import or set low_memory=False.\n",
      "  return pd.read_csv(fp, delimiter='|',\n"
     ]
    },
    {
     "name": "stdout",
     "output_type": "stream",
     "text": [
      "2021\n"
     ]
    },
    {
     "name": "stderr",
     "output_type": "stream",
     "text": [
      "C:\\Users\\WilliamRobinson\\AppData\\Local\\Temp\\ipykernel_6720\\506808745.py:14: DtypeWarning: Columns (5,43,46,79,80) have mixed types. Specify dtype option on import or set low_memory=False.\n",
      "  return pd.read_csv(fp, delimiter='|',\n"
     ]
    }
   ],
   "source": [
    "lar = cleanLAR(2022)\n",
    "\n",
    "with sql.connect(\"C:\\\\Users\\\\WilliamRobinson\\\\OneDrive - HW Publishing LLC\\\\Documents\\\\Data\\\\HMDA\\\\HMDA.sqlite\") as conn:\n",
    "    lar.to_sql('LAR', conn, index=False)\n",
    "\n",
    "for year in list(range(2018, 2022)):\n",
    "    print(year)\n",
    "    del lar\n",
    "    lar = cleanLAR(year)\n",
    "    with sql.connect(\"C:\\\\Users\\\\WilliamRobinson\\\\OneDrive - HW Publishing LLC\\\\Documents\\\\Data\\\\HMDA\\\\HMDA.sqlite\") as conn:\n",
    "        lar.to_sql('LAR', conn, index=False, if_exists='append')\n"
   ]
  },
  {
   "cell_type": "code",
   "execution_count": 4,
   "metadata": {},
   "outputs": [],
   "source": [
    "del lar "
   ]
  },
  {
   "cell_type": "code",
   "execution_count": 5,
   "metadata": {},
   "outputs": [],
   "source": [
    "### Entities\n",
    "\n",
    "lei = pd.DataFrame()\n",
    "\n",
    "def cleanLEI(year, df):\n",
    "    fp = f\"C:\\\\Users\\\\WilliamRobinson\\\\OneDrive - HW Publishing LLC\\\\Documents\\\\Data\\\\HMDA\\\\Entities\\\\{year}.txt\"\n",
    "    \n",
    "    temp = pd.read_csv(fp, delimiter='|')\n",
    "    temp['name_state'] = [f'{x} ({y})' for x, y in zip(temp.respondent_name, temp.respondent_state)]\n",
    "    \n",
    "    return pd.concat(\n",
    "        [df, temp],\n",
    "        ignore_index=True\n",
    "    )\n",
    "    "
   ]
  },
  {
   "cell_type": "code",
   "execution_count": 6,
   "metadata": {},
   "outputs": [],
   "source": [
    "### Loan Limits\n",
    "\n",
    "ll = pd.DataFrame()\n",
    "\n",
    "def cleanLL(year, df):\n",
    "    fp = f\"C:\\\\Users\\\\WilliamRobinson\\\\OneDrive - HW Publishing LLC\\\\Documents\\\\Data\\\\HMDA\\\\LoanLimits\\\\{year}.xlsx\"\n",
    "    \n",
    "    cols = ['state_code', 'county_code', 'county_name', 'state', 'cbsa', 'one_unit_limit',\n",
    "        'two_unit_limit', 'three_unit_limit', 'four_unit_limit']\n",
    "\n",
    "    temp = pd.read_excel(fp, skiprows=1, sheet_name='GSE Limits', names=cols)\n",
    "    temp['year'] = year\n",
    "\n",
    "    return pd.concat(\n",
    "        [df, temp], \n",
    "        ignore_index=True\n",
    "    )"
   ]
  },
  {
   "cell_type": "code",
   "execution_count": 7,
   "metadata": {},
   "outputs": [],
   "source": [
    "for year in list(range(2018, 2023)):\n",
    "    lei = cleanLEI(year, lei)"
   ]
  },
  {
   "cell_type": "code",
   "execution_count": 8,
   "metadata": {},
   "outputs": [],
   "source": [
    "for year in list(range(2018, 2023)):\n",
    "    ll = cleanLL(year, ll)"
   ]
  },
  {
   "cell_type": "code",
   "execution_count": 9,
   "metadata": {},
   "outputs": [],
   "source": [
    "with sql.connect(\"C:\\\\Users\\\\WilliamRobinson\\\\OneDrive - HW Publishing LLC\\\\Documents\\\\Data\\\\HMDA\\\\HMDA.sqlite\") as conn:\n",
    "    lei.to_sql('Entities', conn, index=False)\n",
    "    ll.to_sql('LoanLimits', conn, index=False)"
   ]
  },
  {
   "cell_type": "markdown",
   "metadata": {},
   "source": [
    "<a href=\"https://www.fhfa.gov/DataTools/Downloads/Pages/Conforming-Loan-Limit.aspx\">Conforming loan limits</a> by year"
   ]
  }
 ],
 "metadata": {
  "kernelspec": {
   "display_name": "base",
   "language": "python",
   "name": "python3"
  },
  "language_info": {
   "codemirror_mode": {
    "name": "ipython",
    "version": 3
   },
   "file_extension": ".py",
   "mimetype": "text/x-python",
   "name": "python",
   "nbconvert_exporter": "python",
   "pygments_lexer": "ipython3",
   "version": "3.11.4"
  },
  "orig_nbformat": 4
 },
 "nbformat": 4,
 "nbformat_minor": 2
}
