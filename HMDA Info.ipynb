{
 "cells": [
  {
   "cell_type": "markdown",
   "metadata": {},
   "source": [
    "# HMDA Links and Resources"
   ]
  },
  {
   "cell_type": "markdown",
   "metadata": {},
   "source": [
    "Links:\n",
    "\n",
    "- <a href=\"https://ffiec.cfpb.gov/\">HMDA homepage</a>\n",
    "- <a href=\"https://www.consumerfinance.gov/data-research/hmda/historic-data/\">Historical data (2007-2017)</a>\n",
    "- <a href=\"https://www.consumerfinance.gov/data-research/public-data-inventory/\">CFPB public data inventory</a>\n",
    "- <a href=\"https://ffiec.cfpb.gov/documentation/category/developer-apis\">HMDA developer APIs</a>\n",
    "- <a href=\"https://www.ffiec.gov/hmda/glossary.htm\">HMDA glossary</a>"
   ]
  },
  {
   "cell_type": "markdown",
   "metadata": {},
   "source": [
    "Reports:\n",
    "- <a href=\"https://s3.amazonaws.com/files.consumerfinance.gov/f/documents/cfpb_fair-lending-report_2023-06.pdf\">Fair Lending Report to Congress (June 2023)</a>"
   ]
  },
  {
   "cell_type": "markdown",
   "metadata": {},
   "source": [
    "Other data:\n",
    "- <a href=\"https://www.fhfa.gov/DataTools/Downloads/Pages/National-Mortgage-Database-Aggregate-Data.aspx\">National Mortgage Database Aggregate Statistics</a>\n",
    "- <a href=\"https://www.consumerfinance.gov/data-research/mortgage-performance-trends/download-the-data/\">Mortgage delinquencies</a>\n",
    "- <a href=\"https://www.fhfa.gov/DataTools/Downloads/Pages/NMDB_Data_Sets.aspx\">National Survery of Mortgage Originations</a>"
   ]
  },
  {
   "cell_type": "markdown",
   "metadata": {},
   "source": []
  }
 ],
 "metadata": {
  "language_info": {
   "name": "python"
  },
  "orig_nbformat": 4
 },
 "nbformat": 4,
 "nbformat_minor": 2
}
