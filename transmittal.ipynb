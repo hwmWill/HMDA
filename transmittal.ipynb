{
 "cells": [
  {
   "cell_type": "markdown",
   "metadata": {},
   "source": [
    "## Import data"
   ]
  },
  {
   "cell_type": "code",
   "execution_count": 1,
   "metadata": {},
   "outputs": [
    {
     "data": {
      "text/html": [
       "<div>\n",
       "<style scoped>\n",
       "    .dataframe tbody tr th:only-of-type {\n",
       "        vertical-align: middle;\n",
       "    }\n",
       "\n",
       "    .dataframe tbody tr th {\n",
       "        vertical-align: top;\n",
       "    }\n",
       "\n",
       "    .dataframe thead th {\n",
       "        text-align: right;\n",
       "    }\n",
       "</style>\n",
       "<table border=\"1\" class=\"dataframe\">\n",
       "  <thead>\n",
       "    <tr style=\"text-align: right;\">\n",
       "      <th></th>\n",
       "      <th>activity_year</th>\n",
       "      <th>calendar_quarter</th>\n",
       "      <th>lei</th>\n",
       "      <th>tax_id</th>\n",
       "      <th>agency_code</th>\n",
       "      <th>respondent_name</th>\n",
       "      <th>respondent_state</th>\n",
       "      <th>respondent_city</th>\n",
       "      <th>respondent_zip_code</th>\n",
       "      <th>lar_count</th>\n",
       "    </tr>\n",
       "  </thead>\n",
       "  <tbody>\n",
       "    <tr>\n",
       "      <th>0</th>\n",
       "      <td>2022</td>\n",
       "      <td>4</td>\n",
       "      <td>549300BI43WZOK3XF350</td>\n",
       "      <td>43-1894848</td>\n",
       "      <td>3</td>\n",
       "      <td>Bank of Franklin County</td>\n",
       "      <td>MO</td>\n",
       "      <td>Washington</td>\n",
       "      <td>63090</td>\n",
       "      <td>264</td>\n",
       "    </tr>\n",
       "    <tr>\n",
       "      <th>1</th>\n",
       "      <td>2022</td>\n",
       "      <td>4</td>\n",
       "      <td>549300HH2N9Q3HH7XL57</td>\n",
       "      <td>30-0999121</td>\n",
       "      <td>7</td>\n",
       "      <td>CCM FINANCE, LLC</td>\n",
       "      <td>MN</td>\n",
       "      <td>MINNEAPOLIS</td>\n",
       "      <td>55439</td>\n",
       "      <td>97</td>\n",
       "    </tr>\n",
       "    <tr>\n",
       "      <th>2</th>\n",
       "      <td>2022</td>\n",
       "      <td>4</td>\n",
       "      <td>549300EHQ0Y7SP41BR91</td>\n",
       "      <td>20-8803449</td>\n",
       "      <td>7</td>\n",
       "      <td>Athas Capital Group, Inc.</td>\n",
       "      <td>CA</td>\n",
       "      <td>Calabasas</td>\n",
       "      <td>91301</td>\n",
       "      <td>6064</td>\n",
       "    </tr>\n",
       "    <tr>\n",
       "      <th>3</th>\n",
       "      <td>2022</td>\n",
       "      <td>4</td>\n",
       "      <td>549300HN58ONH5KNJJ12</td>\n",
       "      <td>45-4156623</td>\n",
       "      <td>7</td>\n",
       "      <td>Thompson Kane &amp; Company, Inc</td>\n",
       "      <td>WI</td>\n",
       "      <td>Madison</td>\n",
       "      <td>53717</td>\n",
       "      <td>1278</td>\n",
       "    </tr>\n",
       "    <tr>\n",
       "      <th>4</th>\n",
       "      <td>2022</td>\n",
       "      <td>4</td>\n",
       "      <td>549300M0I314MIP2FT97</td>\n",
       "      <td>66-0690568</td>\n",
       "      <td>7</td>\n",
       "      <td>ACTUAL MORTGAGE BANKERS</td>\n",
       "      <td>PR</td>\n",
       "      <td>BAYAMON</td>\n",
       "      <td>00960</td>\n",
       "      <td>355</td>\n",
       "    </tr>\n",
       "  </tbody>\n",
       "</table>\n",
       "</div>"
      ],
      "text/plain": [
       "   activity_year  calendar_quarter                   lei      tax_id  \\\n",
       "0           2022                 4  549300BI43WZOK3XF350  43-1894848   \n",
       "1           2022                 4  549300HH2N9Q3HH7XL57  30-0999121   \n",
       "2           2022                 4  549300EHQ0Y7SP41BR91  20-8803449   \n",
       "3           2022                 4  549300HN58ONH5KNJJ12  45-4156623   \n",
       "4           2022                 4  549300M0I314MIP2FT97  66-0690568   \n",
       "\n",
       "   agency_code               respondent_name respondent_state respondent_city  \\\n",
       "0            3       Bank of Franklin County               MO      Washington   \n",
       "1            7              CCM FINANCE, LLC               MN     MINNEAPOLIS   \n",
       "2            7     Athas Capital Group, Inc.               CA       Calabasas   \n",
       "3            7  Thompson Kane & Company, Inc               WI         Madison   \n",
       "4            7       ACTUAL MORTGAGE BANKERS               PR         BAYAMON   \n",
       "\n",
       "  respondent_zip_code  lar_count  \n",
       "0               63090        264  \n",
       "1               55439         97  \n",
       "2               91301       6064  \n",
       "3               53717       1278  \n",
       "4               00960        355  "
      ]
     },
     "execution_count": 1,
     "metadata": {},
     "output_type": "execute_result"
    }
   ],
   "source": [
    "import pandas as pd\n",
    "transmitters = pd.read_csv(\"C:\\\\Users\\\\WilliamRobinson\\\\OneDrive - HW Publishing LLC\\\\Documents\\\\Data\\\\HMDA\\\\2022\\\\2022_ts.txt\", \n",
    "                           delimiter='|')\n",
    "transmitters.head()"
   ]
  },
  {
   "cell_type": "code",
   "execution_count": 2,
   "metadata": {},
   "outputs": [
    {
     "name": "stdout",
     "output_type": "stream",
     "text": [
      "legal entity identifiers: 4465\n",
      "respondent names: 4332\n",
      "tax ids: 4465\n"
     ]
    }
   ],
   "source": [
    "print('legal entity identifiers:', len(transmitters.lei.unique()))\n",
    "print('respondent names:', len(transmitters.respondent_name.unique()))\n",
    "print('tax ids:', len(transmitters.tax_id.unique()))"
   ]
  },
  {
   "cell_type": "code",
   "execution_count": 3,
   "metadata": {},
   "outputs": [],
   "source": [
    "dups = transmitters[['lei', 'respondent_name']].groupby('respondent_name').count()\n",
    "dupTrans = transmitters.loc[transmitters.respondent_name.isin(dups.index), ['respondent_name', 'respondent_city', 'respondent_state']]\n",
    "transmitters.loc[transmitters.respondent_name.isin(dups.index), 'respondent_name'] = [f'{x} ({y}, {z})' \n",
    "    for x, y, z in zip(dupTrans.respondent_name, dupTrans.respondent_city, dupTrans.respondent_state)]\n"
   ]
  },
  {
   "cell_type": "code",
   "execution_count": 4,
   "metadata": {},
   "outputs": [
    {
     "data": {
      "text/plain": [
       "(4465, 4459)"
      ]
     },
     "execution_count": 4,
     "metadata": {},
     "output_type": "execute_result"
    }
   ],
   "source": [
    "len(transmitters.lei.unique()), len(transmitters.respondent_name.unique())"
   ]
  },
  {
   "cell_type": "code",
   "execution_count": 5,
   "metadata": {},
   "outputs": [
    {
     "data": {
      "text/html": [
       "<div>\n",
       "<style scoped>\n",
       "    .dataframe tbody tr th:only-of-type {\n",
       "        vertical-align: middle;\n",
       "    }\n",
       "\n",
       "    .dataframe tbody tr th {\n",
       "        vertical-align: top;\n",
       "    }\n",
       "\n",
       "    .dataframe thead th {\n",
       "        text-align: right;\n",
       "    }\n",
       "</style>\n",
       "<table border=\"1\" class=\"dataframe\">\n",
       "  <thead>\n",
       "    <tr style=\"text-align: right;\">\n",
       "      <th></th>\n",
       "      <th>lei</th>\n",
       "    </tr>\n",
       "    <tr>\n",
       "      <th>respondent_name</th>\n",
       "      <th></th>\n",
       "    </tr>\n",
       "  </thead>\n",
       "  <tbody>\n",
       "    <tr>\n",
       "      <th>Anchor Loans LP (Thousand Oaks, CA)</th>\n",
       "      <td>2</td>\n",
       "    </tr>\n",
       "    <tr>\n",
       "      <th>FIRST NATIONAL BANK OF PA (HERMITAGE, PA)</th>\n",
       "      <td>2</td>\n",
       "    </tr>\n",
       "    <tr>\n",
       "      <th>Farm Credit Services of Western Arkansas (Russellville, AR)</th>\n",
       "      <td>2</td>\n",
       "    </tr>\n",
       "    <tr>\n",
       "      <th>GreenStone Farm Credit Services (East Lansing, MI)</th>\n",
       "      <td>2</td>\n",
       "    </tr>\n",
       "    <tr>\n",
       "      <th>RCN Capital, LLC (South Windsor, CT)</th>\n",
       "      <td>2</td>\n",
       "    </tr>\n",
       "    <tr>\n",
       "      <th>Stock Yards Bank and Trust (Louisville, KY)</th>\n",
       "      <td>2</td>\n",
       "    </tr>\n",
       "  </tbody>\n",
       "</table>\n",
       "</div>"
      ],
      "text/plain": [
       "                                                    lei\n",
       "respondent_name                                        \n",
       "Anchor Loans LP (Thousand Oaks, CA)                   2\n",
       "FIRST NATIONAL BANK OF PA (HERMITAGE, PA)             2\n",
       "Farm Credit Services of Western Arkansas (Russe...    2\n",
       "GreenStone Farm Credit Services (East Lansing, MI)    2\n",
       "RCN Capital, LLC (South Windsor, CT)                  2\n",
       "Stock Yards Bank and Trust (Louisville, KY)           2"
      ]
     },
     "execution_count": 5,
     "metadata": {},
     "output_type": "execute_result"
    }
   ],
   "source": [
    "newNames = transmitters[['lei', 'respondent_name']].groupby('respondent_name').count()\n",
    "newNames.loc[newNames.lei > 1]"
   ]
  },
  {
   "cell_type": "code",
   "execution_count": 6,
   "metadata": {},
   "outputs": [
    {
     "data": {
      "text/html": [
       "<div>\n",
       "<style scoped>\n",
       "    .dataframe tbody tr th:only-of-type {\n",
       "        vertical-align: middle;\n",
       "    }\n",
       "\n",
       "    .dataframe tbody tr th {\n",
       "        vertical-align: top;\n",
       "    }\n",
       "\n",
       "    .dataframe thead th {\n",
       "        text-align: right;\n",
       "    }\n",
       "</style>\n",
       "<table border=\"1\" class=\"dataframe\">\n",
       "  <thead>\n",
       "    <tr style=\"text-align: right;\">\n",
       "      <th></th>\n",
       "      <th>activity_year</th>\n",
       "      <th>calendar_quarter</th>\n",
       "      <th>lei</th>\n",
       "      <th>tax_id</th>\n",
       "      <th>agency_code</th>\n",
       "      <th>respondent_name</th>\n",
       "      <th>respondent_state</th>\n",
       "      <th>respondent_city</th>\n",
       "      <th>respondent_zip_code</th>\n",
       "      <th>lar_count</th>\n",
       "    </tr>\n",
       "  </thead>\n",
       "  <tbody>\n",
       "    <tr>\n",
       "      <th>2511</th>\n",
       "      <td>2022</td>\n",
       "      <td>4</td>\n",
       "      <td>N8T7HW55LK5D2ORCKP39</td>\n",
       "      <td>25-1255405</td>\n",
       "      <td>9</td>\n",
       "      <td>FIRST NATIONAL BANK OF PA (HERMITAGE, PA)</td>\n",
       "      <td>PA</td>\n",
       "      <td>HERMITAGE</td>\n",
       "      <td>16148</td>\n",
       "      <td>24881</td>\n",
       "    </tr>\n",
       "    <tr>\n",
       "      <th>2790</th>\n",
       "      <td>2022</td>\n",
       "      <td>4</td>\n",
       "      <td>549300LN7FRX3PP2LO74</td>\n",
       "      <td>56-2094762</td>\n",
       "      <td>3</td>\n",
       "      <td>FIRST NATIONAL BANK OF PA (HERMITAGE, PA)</td>\n",
       "      <td>PA</td>\n",
       "      <td>HERMITAGE</td>\n",
       "      <td>16148</td>\n",
       "      <td>132</td>\n",
       "    </tr>\n",
       "  </tbody>\n",
       "</table>\n",
       "</div>"
      ],
      "text/plain": [
       "      activity_year  calendar_quarter                   lei      tax_id  \\\n",
       "2511           2022                 4  N8T7HW55LK5D2ORCKP39  25-1255405   \n",
       "2790           2022                 4  549300LN7FRX3PP2LO74  56-2094762   \n",
       "\n",
       "      agency_code                            respondent_name respondent_state  \\\n",
       "2511            9  FIRST NATIONAL BANK OF PA (HERMITAGE, PA)               PA   \n",
       "2790            3  FIRST NATIONAL BANK OF PA (HERMITAGE, PA)               PA   \n",
       "\n",
       "     respondent_city respondent_zip_code  lar_count  \n",
       "2511       HERMITAGE               16148      24881  \n",
       "2790       HERMITAGE               16148        132  "
      ]
     },
     "execution_count": 6,
     "metadata": {},
     "output_type": "execute_result"
    }
   ],
   "source": [
    "transmitters.loc[transmitters.respondent_name == 'FIRST NATIONAL BANK OF PA (HERMITAGE, PA)']"
   ]
  },
  {
   "cell_type": "code",
   "execution_count": 7,
   "metadata": {},
   "outputs": [
    {
     "data": {
      "text/html": [
       "<div>\n",
       "<style scoped>\n",
       "    .dataframe tbody tr th:only-of-type {\n",
       "        vertical-align: middle;\n",
       "    }\n",
       "\n",
       "    .dataframe tbody tr th {\n",
       "        vertical-align: top;\n",
       "    }\n",
       "\n",
       "    .dataframe thead th {\n",
       "        text-align: right;\n",
       "    }\n",
       "</style>\n",
       "<table border=\"1\" class=\"dataframe\">\n",
       "  <thead>\n",
       "    <tr style=\"text-align: right;\">\n",
       "      <th></th>\n",
       "      <th>activity_year</th>\n",
       "      <th>calendar_quarter</th>\n",
       "      <th>lei</th>\n",
       "      <th>tax_id</th>\n",
       "      <th>agency_code</th>\n",
       "      <th>respondent_name</th>\n",
       "      <th>respondent_state</th>\n",
       "      <th>respondent_city</th>\n",
       "      <th>respondent_zip_code</th>\n",
       "      <th>lar_count</th>\n",
       "    </tr>\n",
       "  </thead>\n",
       "  <tbody>\n",
       "    <tr>\n",
       "      <th>1494</th>\n",
       "      <td>2022</td>\n",
       "      <td>4</td>\n",
       "      <td>549300623VT8YKPHWM78</td>\n",
       "      <td>46-3223427</td>\n",
       "      <td>9</td>\n",
       "      <td>Anchor Loans LP (Thousand Oaks, CA)</td>\n",
       "      <td>CA</td>\n",
       "      <td>Thousand Oaks</td>\n",
       "      <td>91362</td>\n",
       "      <td>4069</td>\n",
       "    </tr>\n",
       "    <tr>\n",
       "      <th>1496</th>\n",
       "      <td>2022</td>\n",
       "      <td>4</td>\n",
       "      <td>549300KNDTHPORJI2O79</td>\n",
       "      <td>47-4563523</td>\n",
       "      <td>9</td>\n",
       "      <td>Anchor Loans LP (Thousand Oaks, CA)</td>\n",
       "      <td>CA</td>\n",
       "      <td>Thousand Oaks</td>\n",
       "      <td>91362</td>\n",
       "      <td>788</td>\n",
       "    </tr>\n",
       "  </tbody>\n",
       "</table>\n",
       "</div>"
      ],
      "text/plain": [
       "      activity_year  calendar_quarter                   lei      tax_id  \\\n",
       "1494           2022                 4  549300623VT8YKPHWM78  46-3223427   \n",
       "1496           2022                 4  549300KNDTHPORJI2O79  47-4563523   \n",
       "\n",
       "      agency_code                      respondent_name respondent_state  \\\n",
       "1494            9  Anchor Loans LP (Thousand Oaks, CA)               CA   \n",
       "1496            9  Anchor Loans LP (Thousand Oaks, CA)               CA   \n",
       "\n",
       "     respondent_city respondent_zip_code  lar_count  \n",
       "1494   Thousand Oaks               91362       4069  \n",
       "1496   Thousand Oaks               91362        788  "
      ]
     },
     "execution_count": 7,
     "metadata": {},
     "output_type": "execute_result"
    }
   ],
   "source": [
    "transmitters.loc[transmitters.respondent_name == 'Anchor Loans LP (Thousand Oaks, CA)']"
   ]
  },
  {
   "cell_type": "markdown",
   "metadata": {},
   "source": [
    "## Why there are duplicates and why I'm not using just LEI:\n",
    "\n",
    "<a href=\"https://www.financialresearch.gov/data/legal-entity-identifier-faqs/\">Why institutions have multiple LEIs</a>"
   ]
  },
  {
   "cell_type": "code",
   "execution_count": 8,
   "metadata": {},
   "outputs": [],
   "source": [
    "transmitters[['lei', 'respondent_name', 'respondent_state']].to_csv('lei_Names.csv')"
   ]
  },
  {
   "cell_type": "code",
   "execution_count": null,
   "metadata": {},
   "outputs": [],
   "source": []
  }
 ],
 "metadata": {
  "kernelspec": {
   "display_name": "base",
   "language": "python",
   "name": "python3"
  },
  "language_info": {
   "codemirror_mode": {
    "name": "ipython",
    "version": 3
   },
   "file_extension": ".py",
   "mimetype": "text/x-python",
   "name": "python",
   "nbconvert_exporter": "python",
   "pygments_lexer": "ipython3",
   "version": "3.11.4"
  },
  "orig_nbformat": 4
 },
 "nbformat": 4,
 "nbformat_minor": 2
}
