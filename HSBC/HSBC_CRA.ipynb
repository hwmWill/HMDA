{
 "cells": [
  {
   "cell_type": "code",
   "execution_count": 1,
   "metadata": {},
   "outputs": [],
   "source": [
    "import pandas as pd\n",
    "import sqlite3"
   ]
  },
  {
   "cell_type": "code",
   "execution_count": 2,
   "metadata": {},
   "outputs": [
    {
     "name": "stderr",
     "output_type": "stream",
     "text": [
      "c:\\Users\\WilliamRobinson\\miniconda3\\Lib\\site-packages\\openpyxl\\styles\\stylesheet.py:226: UserWarning: Workbook contains no default style, apply openpyxl's default\n",
      "  warn(\"Workbook contains no default style, apply openpyxl's default\")\n",
      "c:\\Users\\WilliamRobinson\\miniconda3\\Lib\\site-packages\\openpyxl\\styles\\stylesheet.py:226: UserWarning: Workbook contains no default style, apply openpyxl's default\n",
      "  warn(\"Workbook contains no default style, apply openpyxl's default\")\n",
      "c:\\Users\\WilliamRobinson\\miniconda3\\Lib\\site-packages\\openpyxl\\styles\\stylesheet.py:226: UserWarning: Workbook contains no default style, apply openpyxl's default\n",
      "  warn(\"Workbook contains no default style, apply openpyxl's default\")\n",
      "c:\\Users\\WilliamRobinson\\miniconda3\\Lib\\site-packages\\openpyxl\\styles\\stylesheet.py:226: UserWarning: Workbook contains no default style, apply openpyxl's default\n",
      "  warn(\"Workbook contains no default style, apply openpyxl's default\")\n"
     ]
    },
    {
     "name": "stdout",
     "output_type": "stream",
     "text": [
      "<class 'pandas.core.frame.DataFrame'>\n",
      "RangeIndex: 58326 entries, 0 to 58325\n",
      "Data columns (total 9 columns):\n",
      " #   Column           Non-Null Count  Dtype \n",
      "---  ------           --------------  ----- \n",
      " 0   tract            58326 non-null  object\n",
      " 1   assessment_area  58326 non-null  object\n",
      " 2   county           58326 non-null  object\n",
      " 3   state            58326 non-null  object\n",
      " 4   msa              58326 non-null  object\n",
      " 5   county_code      58326 non-null  object\n",
      " 6   state_code       58326 non-null  object\n",
      " 7   census_tract     58326 non-null  object\n",
      " 8   year             58326 non-null  int64 \n",
      "dtypes: int64(1), object(8)\n",
      "memory usage: 4.0+ MB\n"
     ]
    }
   ],
   "source": [
    "# data for state codes\n",
    "states = pd.read_excel('./CRA Assessment Tracts/state_codes.xlsx', dtype={'State Code':str}).drop(columns='State Name')\n",
    "\n",
    "# dataframe to concat annual sheets\n",
    "tracts = pd.DataFrame()\n",
    "\n",
    "for year in [2018, 2019, 2020, 2021]:\n",
    "    # read data\n",
    "    df = pd.read_excel(f'./CRA Assessment Tracts/HSBC_{year}.XLSX', \n",
    "                    usecols='A', skiprows=4)\n",
    "    df.dropna(inplace=True)\n",
    "    df.rename(columns={df.columns[0]:'data'}, inplace=True)\n",
    "\n",
    "    # create columns\n",
    "    df.loc[df.data.str.contains('ASSESSMENT AREA'), 'assessment_area'] = df.loc[df.data.str.contains('ASSESSMENT AREA')].data\n",
    "    df.loc[(df.data.str.contains('COUNTY'))|(df.data.str.contains('DISTRICT OF')), 'county'] = df.loc[(df.data.str.contains('COUNTY'))|(df.data.str.contains('DISTRICT OF'))].data\n",
    "    df.loc[df.data.str.contains('MSA:'), 'msa'] = df.loc[df.data.str.contains('MSA:')].data\n",
    "    df['year'] = year\n",
    "\n",
    "    # drop unneeded subheads\n",
    "    df = df.loc[~df.data.str.contains('Income')]\n",
    "\n",
    "    # use values from created columns\n",
    "    df.fillna(method='ffill', inplace=True)\n",
    "    # drop rows used to create values\n",
    "    df = df.loc[~((df.data.str.contains('COUNTY'))|(df.data.str.contains('DISTRICT OF'))|(df.data.str.contains('ASSESSMENT'))\n",
    "            |(df.data.str.contains('Median Family Income'))|(df.data.str.contains('MSA'))|(df.data.str.contains('Income')))].reset_index(drop=True)\n",
    "\n",
    "    # clean columns\n",
    "    df.loc[:, 'data'] = df.data.map(lambda x: [y.rstrip('*') for y in x.split()])\n",
    "    df.loc[:, 'msa'] = df.msa.str.lstrip('MSA: ')\n",
    "    df['state'] = df.county.map(lambda x: x.split()[-1])\n",
    "    df['county_code'] = df.county.map(lambda x: x.split(',')[0].split()[-1].replace('(','').replace(')',''))\n",
    "    df.loc[:, 'county'] = df.county.map(lambda x: x.split('(')[0].strip())\n",
    "\n",
    "    # add state codes\n",
    "    df = df.merge(states, on='state')\n",
    "\n",
    "    tracts = pd.concat([tracts, df], ignore_index=True)\n",
    "\n",
    "# create row for each tract in data column\n",
    "final = pd.DataFrame()\n",
    "for idx in tracts.index:\n",
    "    row = tracts.iloc[idx]\n",
    "    for tract in row.data:\n",
    "        final = pd.concat([final, \n",
    "            pd.DataFrame(dict(zip(\n",
    "                ['tract', 'assessment_area', 'county', 'state', 'msa', 'county_code', 'state_code', 'census_tract', 'year'], \n",
    "                [[tract.replace('.','')], [row.assessment_area], [row.county], [row.state], [row.msa], [row.county_code], [row['State Code']], \n",
    "                [row['State Code'] + row.county_code + tract.replace('.','')], [row.year]]\n",
    "                ))\n",
    "            )],\n",
    "            ignore_index=True\n",
    "        )\n",
    "\n",
    "final.info()"
   ]
  },
  {
   "cell_type": "code",
   "execution_count": 3,
   "metadata": {},
   "outputs": [
    {
     "name": "stdout",
     "output_type": "stream",
     "text": [
      "census tracts: 13253\n",
      "msas: 142\n",
      "assessment_areas: 20\n"
     ]
    }
   ],
   "source": [
    "print('census tracts:', len(final.loc[final.year==2018, 'census_tract'].unique()))\n",
    "print('msas:', len(final.loc[final.year==2018, 'msa'].unique()))\n",
    "print('assessment_areas:', len(final.loc[final.year==2018, 'assessment_area'].unique()))"
   ]
  },
  {
   "cell_type": "code",
   "execution_count": 4,
   "metadata": {},
   "outputs": [],
   "source": [
    "# save as sql table\n",
    "with sqlite3.connect('../HMDA_full/HMDA.sqlite') as conn:\n",
    "    cur = conn.cursor()\n",
    "    # set schema\n",
    "    cur.executescript('''\n",
    "    DROP TABLE IF EXISTS hsbc_cra;\n",
    "\n",
    "    CREATE TABLE \"hsbc_cra\" (\n",
    "        \"tract\"\t            TEXT,\n",
    "        \"assessment_area\"\tTEXT,\n",
    "        \"county\"\t        TEXT,\n",
    "        \"state\"\t            TEXT,\n",
    "        \"msa\"\t            TEXT,\n",
    "        \"county_code\"\t    TEXT,\n",
    "        \"state_code\"\t    TEXT,\n",
    "        \"census_tract\"\t    TEXT,\n",
    "        \"year\"\t            INTEGER\n",
    "    );\n",
    "    ''')\n",
    "    # save data\n",
    "    final.to_sql('hsbc_cra', conn, if_exists='replace', index=False)"
   ]
  },
  {
   "cell_type": "code",
   "execution_count": null,
   "metadata": {},
   "outputs": [],
   "source": []
  }
 ],
 "metadata": {
  "kernelspec": {
   "display_name": "base",
   "language": "python",
   "name": "python3"
  },
  "language_info": {
   "codemirror_mode": {
    "name": "ipython",
    "version": 3
   },
   "file_extension": ".py",
   "mimetype": "text/x-python",
   "name": "python",
   "nbconvert_exporter": "python",
   "pygments_lexer": "ipython3",
   "version": "3.11.4"
  },
  "orig_nbformat": 4
 },
 "nbformat": 4,
 "nbformat_minor": 2
}
