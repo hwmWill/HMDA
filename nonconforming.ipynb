{
 "cells": [
  {
   "cell_type": "code",
   "execution_count": 1,
   "metadata": {},
   "outputs": [],
   "source": [
    "import pandas as pd\n",
    "data = 'sfmOrigNonbiz22.csv'"
   ]
  },
  {
   "cell_type": "code",
   "execution_count": 2,
   "metadata": {},
   "outputs": [
    {
     "name": "stderr",
     "output_type": "stream",
     "text": [
      "C:\\Users\\WilliamRobinson\\AppData\\Local\\Temp\\ipykernel_4688\\3436436810.py:1: DtypeWarning: Columns (8) have mixed types. Specify dtype option on import or set low_memory=False.\n",
      "  df = pd.read_csv(data)\n"
     ]
    },
    {
     "name": "stdout",
     "output_type": "stream",
     "text": [
      "<class 'pandas.core.frame.DataFrame'>\n",
      "RangeIndex: 7701735 entries, 0 to 7701734\n",
      "Data columns (total 30 columns):\n",
      " #   Column                        Dtype  \n",
      "---  ------                        -----  \n",
      " 0   Unnamed: 0                    int64  \n",
      " 1   activity_year                 int64  \n",
      " 2   lei                           object \n",
      " 3   derived_msa_md                int64  \n",
      " 4   state_code                    object \n",
      " 5   county_code                   float64\n",
      " 6   census_tract                  float64\n",
      " 7   conforming_loan_limit         object \n",
      " 8   purchaser_type                object \n",
      " 9   loan_type                     object \n",
      " 10  loan_purpose                  object \n",
      " 11  lien_status                   object \n",
      " 12  reverse_mortgage              object \n",
      " 13  loan_amount                   int64  \n",
      " 14  combined_loan_to_value_ratio  float64\n",
      " 15  interest_rate                 float64\n",
      " 16  rate_spread                   float64\n",
      " 17  hoepa_status                  object \n",
      " 18  total_loan_costs              float64\n",
      " 19  total_points_and_fees         float64\n",
      " 20  origination_charges           float64\n",
      " 21  discount_points               float64\n",
      " 22  lender_credits                float64\n",
      " 23  loan_term                     float64\n",
      " 24  intro_rate_period             float64\n",
      " 25  property_value                float64\n",
      " 26  construction_method           object \n",
      " 27  occupancy_type                object \n",
      " 28  total_units                   float64\n",
      " 29  debt_to_income_ratio          object \n",
      "dtypes: float64(14), int64(4), object(12)\n",
      "memory usage: 1.7+ GB\n"
     ]
    }
   ],
   "source": [
    "df = pd.read_csv(data)\n",
    "df.info()"
   ]
  },
  {
   "cell_type": "code",
   "execution_count": 3,
   "metadata": {},
   "outputs": [
    {
     "data": {
      "text/plain": [
       "conforming_loan_limit\n",
       "C     7324486\n",
       "NC     377088\n",
       "U         161\n",
       "Name: count, dtype: int64"
      ]
     },
     "execution_count": 3,
     "metadata": {},
     "output_type": "execute_result"
    }
   ],
   "source": [
    "df.conforming_loan_limit.value_counts()"
   ]
  },
  {
   "cell_type": "code",
   "execution_count": 4,
   "metadata": {},
   "outputs": [
    {
     "name": "stdout",
     "output_type": "stream",
     "text": [
      "There were 377,088 nonconforming loans originated last year for noncommercial, single-family mortgages, which accounted for 4.90% of all such loans.\n",
      "The nonconforming loans totaled $450.46 billion, which was 19.39% of noncommercial, single-family mortgages originated last year.\n"
     ]
    }
   ],
   "source": [
    "nonconforming = df.copy().loc[df.conforming_loan_limit == 'NC', :]\n",
    "nc_total = len(nonconforming)\n",
    "total = len(df)\n",
    "pct = float(nc_total) / float(total) * 100\n",
    "nc_sum = nonconforming.loan_amount.sum()\n",
    "_sum = df.loan_amount.sum()\n",
    "pct_sum = nc_sum / _sum * 100\n",
    "print(f'There were {nc_total:,.0f} nonconforming loans originated last year for noncommercial, single-family mortgages, which accounted for {pct:.2f}% of all such loans.') \n",
    "print(f'The nonconforming loans totaled ${nc_sum / 1000000000:.2f} billion, which was {pct_sum:.2f}% of noncommercial, single-family mortgages originated last year.')"
   ]
  },
  {
   "cell_type": "code",
   "execution_count": 5,
   "metadata": {},
   "outputs": [],
   "source": [
    "names = pd.read_csv('lei_Names.csv')"
   ]
  },
  {
   "cell_type": "code",
   "execution_count": 6,
   "metadata": {},
   "outputs": [],
   "source": [
    "nonconforming = nonconforming.merge(names, on='lei').drop(\n",
    "    columns=['Unnamed: 0_x', 'Unnamed: 0_y']).rename(\n",
    "    columns={'respondent_name':'lender', 'respondent_state':'lender_state'})"
   ]
  },
  {
   "cell_type": "code",
   "execution_count": 7,
   "metadata": {},
   "outputs": [
    {
     "name": "stdout",
     "output_type": "stream",
     "text": [
      "There were 2,325 originators of nonconforming loans.\n",
      "The 10 largest lenders by loan volume are:\n"
     ]
    },
    {
     "data": {
      "text/html": [
       "<div>\n",
       "<style scoped>\n",
       "    .dataframe tbody tr th:only-of-type {\n",
       "        vertical-align: middle;\n",
       "    }\n",
       "\n",
       "    .dataframe tbody tr th {\n",
       "        vertical-align: top;\n",
       "    }\n",
       "\n",
       "    .dataframe thead th {\n",
       "        text-align: right;\n",
       "    }\n",
       "</style>\n",
       "<table border=\"1\" class=\"dataframe\">\n",
       "  <thead>\n",
       "    <tr style=\"text-align: right;\">\n",
       "      <th></th>\n",
       "      <th>loan_amount</th>\n",
       "    </tr>\n",
       "    <tr>\n",
       "      <th>lender</th>\n",
       "      <th></th>\n",
       "    </tr>\n",
       "  </thead>\n",
       "  <tbody>\n",
       "    <tr>\n",
       "      <th>WELLS FARGO BANK NA (WINSTON-SALEM, NC)</th>\n",
       "      <td>21318</td>\n",
       "    </tr>\n",
       "    <tr>\n",
       "      <th>Bank of America NA (Plano, TX)</th>\n",
       "      <td>18168</td>\n",
       "    </tr>\n",
       "    <tr>\n",
       "      <th>US BANK, N.A. (CINCINNATI, OH)</th>\n",
       "      <td>15546</td>\n",
       "    </tr>\n",
       "    <tr>\n",
       "      <th>JPMorgan Chase Bank, NA (Columbus, OH)</th>\n",
       "      <td>14194</td>\n",
       "    </tr>\n",
       "    <tr>\n",
       "      <th>FIRST REPUBLIC BANK (SAN FRANCISCO, CA)</th>\n",
       "      <td>12489</td>\n",
       "    </tr>\n",
       "    <tr>\n",
       "      <th>PNC BANK N.A. (Pittsburgh, PA)</th>\n",
       "      <td>9951</td>\n",
       "    </tr>\n",
       "    <tr>\n",
       "      <th>United Wholesale Mortgage (Pontiac, MI)</th>\n",
       "      <td>9309</td>\n",
       "    </tr>\n",
       "    <tr>\n",
       "      <th>Citibank, NA (New York, NY)</th>\n",
       "      <td>7902</td>\n",
       "    </tr>\n",
       "    <tr>\n",
       "      <th>Morgan Stanley Private Bank NA (Purchase, NY)</th>\n",
       "      <td>6631</td>\n",
       "    </tr>\n",
       "    <tr>\n",
       "      <th>CBNA Year to Date (Providence, RI)</th>\n",
       "      <td>6056</td>\n",
       "    </tr>\n",
       "  </tbody>\n",
       "</table>\n",
       "</div>"
      ],
      "text/plain": [
       "                                               loan_amount\n",
       "lender                                                    \n",
       "WELLS FARGO BANK NA (WINSTON-SALEM, NC)              21318\n",
       "Bank of America NA (Plano, TX)                       18168\n",
       "US BANK, N.A. (CINCINNATI, OH)                       15546\n",
       "JPMorgan Chase Bank, NA (Columbus, OH)               14194\n",
       "FIRST REPUBLIC BANK (SAN FRANCISCO, CA)              12489\n",
       "PNC BANK N.A. (Pittsburgh, PA)                        9951\n",
       "United Wholesale Mortgage (Pontiac, MI)               9309\n",
       "Citibank, NA (New York, NY)                           7902\n",
       "Morgan Stanley Private Bank NA (Purchase, NY)         6631\n",
       "CBNA Year to Date (Providence, RI)                    6056"
      ]
     },
     "execution_count": 7,
     "metadata": {},
     "output_type": "execute_result"
    }
   ],
   "source": [
    "print(f'There were {len(nonconforming.lei.unique()):,.0f} originators of nonconforming loans.')\n",
    "print(f'The 10 largest lenders by loan volume are:')\n",
    "nonconforming[['lender', 'loan_amount']].groupby('lender').count().sort_values(by='loan_amount', ascending=False).head(10)"
   ]
  },
  {
   "cell_type": "code",
   "execution_count": 8,
   "metadata": {},
   "outputs": [
    {
     "name": "stdout",
     "output_type": "stream",
     "text": [
      "The 10 largest lenders by total amounts loaned are:\n"
     ]
    },
    {
     "data": {
      "text/html": [
       "<div>\n",
       "<style scoped>\n",
       "    .dataframe tbody tr th:only-of-type {\n",
       "        vertical-align: middle;\n",
       "    }\n",
       "\n",
       "    .dataframe tbody tr th {\n",
       "        vertical-align: top;\n",
       "    }\n",
       "\n",
       "    .dataframe thead th {\n",
       "        text-align: right;\n",
       "    }\n",
       "</style>\n",
       "<table border=\"1\" class=\"dataframe\">\n",
       "  <thead>\n",
       "    <tr style=\"text-align: right;\">\n",
       "      <th></th>\n",
       "      <th>loan_amount</th>\n",
       "    </tr>\n",
       "    <tr>\n",
       "      <th>lender</th>\n",
       "      <th></th>\n",
       "    </tr>\n",
       "  </thead>\n",
       "  <tbody>\n",
       "    <tr>\n",
       "      <th>WELLS FARGO BANK NA (WINSTON-SALEM, NC)</th>\n",
       "      <td>30725680000</td>\n",
       "    </tr>\n",
       "    <tr>\n",
       "      <th>FIRST REPUBLIC BANK (SAN FRANCISCO, CA)</th>\n",
       "      <td>25456595000</td>\n",
       "    </tr>\n",
       "    <tr>\n",
       "      <th>Bank of America NA (Plano, TX)</th>\n",
       "      <td>25258080000</td>\n",
       "    </tr>\n",
       "    <tr>\n",
       "      <th>JPMorgan Chase Bank, NA (Columbus, OH)</th>\n",
       "      <td>22818750000</td>\n",
       "    </tr>\n",
       "    <tr>\n",
       "      <th>US BANK, N.A. (CINCINNATI, OH)</th>\n",
       "      <td>18123530000</td>\n",
       "    </tr>\n",
       "    <tr>\n",
       "      <th>Citibank, NA (New York, NY)</th>\n",
       "      <td>15665180000</td>\n",
       "    </tr>\n",
       "    <tr>\n",
       "      <th>Morgan Stanley Private Bank NA (Purchase, NY)</th>\n",
       "      <td>11178755000</td>\n",
       "    </tr>\n",
       "    <tr>\n",
       "      <th>PNC BANK N.A. (Pittsburgh, PA)</th>\n",
       "      <td>10772365000</td>\n",
       "    </tr>\n",
       "    <tr>\n",
       "      <th>United Wholesale Mortgage (Pontiac, MI)</th>\n",
       "      <td>9445705000</td>\n",
       "    </tr>\n",
       "    <tr>\n",
       "      <th>MUFG Union Bank, NA (San Diego, CA)</th>\n",
       "      <td>6378225000</td>\n",
       "    </tr>\n",
       "  </tbody>\n",
       "</table>\n",
       "</div>"
      ],
      "text/plain": [
       "                                               loan_amount\n",
       "lender                                                    \n",
       "WELLS FARGO BANK NA (WINSTON-SALEM, NC)        30725680000\n",
       "FIRST REPUBLIC BANK (SAN FRANCISCO, CA)        25456595000\n",
       "Bank of America NA (Plano, TX)                 25258080000\n",
       "JPMorgan Chase Bank, NA (Columbus, OH)         22818750000\n",
       "US BANK, N.A. (CINCINNATI, OH)                 18123530000\n",
       "Citibank, NA (New York, NY)                    15665180000\n",
       "Morgan Stanley Private Bank NA (Purchase, NY)  11178755000\n",
       "PNC BANK N.A. (Pittsburgh, PA)                 10772365000\n",
       "United Wholesale Mortgage (Pontiac, MI)         9445705000\n",
       "MUFG Union Bank, NA (San Diego, CA)             6378225000"
      ]
     },
     "execution_count": 8,
     "metadata": {},
     "output_type": "execute_result"
    }
   ],
   "source": [
    "print(f'The 10 largest lenders by total amounts loaned are:')\n",
    "nonconforming[['lender', 'loan_amount']].groupby('lender').sum().sort_values(by='loan_amount', ascending=False).head(10)"
   ]
  },
  {
   "cell_type": "code",
   "execution_count": 9,
   "metadata": {},
   "outputs": [
    {
     "name": "stdout",
     "output_type": "stream",
     "text": [
      "The 10 largest lenders by total amounts loaned in Texas are:\n"
     ]
    },
    {
     "data": {
      "text/html": [
       "<div>\n",
       "<style scoped>\n",
       "    .dataframe tbody tr th:only-of-type {\n",
       "        vertical-align: middle;\n",
       "    }\n",
       "\n",
       "    .dataframe tbody tr th {\n",
       "        vertical-align: top;\n",
       "    }\n",
       "\n",
       "    .dataframe thead th {\n",
       "        text-align: right;\n",
       "    }\n",
       "</style>\n",
       "<table border=\"1\" class=\"dataframe\">\n",
       "  <thead>\n",
       "    <tr style=\"text-align: right;\">\n",
       "      <th></th>\n",
       "      <th>loan_amount</th>\n",
       "    </tr>\n",
       "    <tr>\n",
       "      <th>lender</th>\n",
       "      <th></th>\n",
       "    </tr>\n",
       "  </thead>\n",
       "  <tbody>\n",
       "    <tr>\n",
       "      <th>JPMorgan Chase Bank, NA (Columbus, OH)</th>\n",
       "      <td>1880810000</td>\n",
       "    </tr>\n",
       "    <tr>\n",
       "      <th>FIRST UNITED BANK AND TRUST CO (DURANT, OK)</th>\n",
       "      <td>1854755000</td>\n",
       "    </tr>\n",
       "    <tr>\n",
       "      <th>PROSPERITY BANK (VICTORIA, TX)</th>\n",
       "      <td>1259995000</td>\n",
       "    </tr>\n",
       "    <tr>\n",
       "      <th>Bank of America NA (Plano, TX)</th>\n",
       "      <td>1117860000</td>\n",
       "    </tr>\n",
       "    <tr>\n",
       "      <th>WELLS FARGO BANK NA (WINSTON-SALEM, NC)</th>\n",
       "      <td>1001490000</td>\n",
       "    </tr>\n",
       "    <tr>\n",
       "      <th>US BANK, N.A. (CINCINNATI, OH)</th>\n",
       "      <td>713295000</td>\n",
       "    </tr>\n",
       "    <tr>\n",
       "      <th>ZIONS BANCORPORATION, N.A. (THE WOODLANDS, TX)</th>\n",
       "      <td>706845000</td>\n",
       "    </tr>\n",
       "    <tr>\n",
       "      <th>Amplify Credit Union (Austin, TX)</th>\n",
       "      <td>656420000</td>\n",
       "    </tr>\n",
       "    <tr>\n",
       "      <th>Cadence Bank (Tupelo, MS)</th>\n",
       "      <td>621180000</td>\n",
       "    </tr>\n",
       "    <tr>\n",
       "      <th>Citibank, NA (New York, NY)</th>\n",
       "      <td>557435000</td>\n",
       "    </tr>\n",
       "  </tbody>\n",
       "</table>\n",
       "</div>"
      ],
      "text/plain": [
       "                                                loan_amount\n",
       "lender                                                     \n",
       "JPMorgan Chase Bank, NA (Columbus, OH)           1880810000\n",
       "FIRST UNITED BANK AND TRUST CO (DURANT, OK)      1854755000\n",
       "PROSPERITY BANK (VICTORIA, TX)                   1259995000\n",
       "Bank of America NA (Plano, TX)                   1117860000\n",
       "WELLS FARGO BANK NA (WINSTON-SALEM, NC)          1001490000\n",
       "US BANK, N.A. (CINCINNATI, OH)                    713295000\n",
       "ZIONS BANCORPORATION, N.A. (THE WOODLANDS, TX)    706845000\n",
       "Amplify Credit Union (Austin, TX)                 656420000\n",
       "Cadence Bank (Tupelo, MS)                         621180000\n",
       "Citibank, NA (New York, NY)                       557435000"
      ]
     },
     "execution_count": 9,
     "metadata": {},
     "output_type": "execute_result"
    }
   ],
   "source": [
    "print(f'The 10 largest lenders by total amounts loaned in Texas are:')\n",
    "nonconforming.loc[nonconforming.state_code == 'TX'][['lender', 'loan_amount']].groupby('lender').sum().sort_values(by='loan_amount', ascending=False).head(10)"
   ]
  },
  {
   "cell_type": "code",
   "execution_count": null,
   "metadata": {},
   "outputs": [],
   "source": []
  }
 ],
 "metadata": {
  "kernelspec": {
   "display_name": "base",
   "language": "python",
   "name": "python3"
  },
  "language_info": {
   "codemirror_mode": {
    "name": "ipython",
    "version": 3
   },
   "file_extension": ".py",
   "mimetype": "text/x-python",
   "name": "python",
   "nbconvert_exporter": "python",
   "pygments_lexer": "ipython3",
   "version": "3.11.4"
  },
  "orig_nbformat": 4
 },
 "nbformat": 4,
 "nbformat_minor": 2
}
